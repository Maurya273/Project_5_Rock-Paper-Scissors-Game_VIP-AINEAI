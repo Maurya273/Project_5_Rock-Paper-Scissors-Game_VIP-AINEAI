{
 "cells": [
  {
   "cell_type": "markdown",
   "id": "f252f7e6",
   "metadata": {},
   "source": [
    "# Rock, Paper and Scissors Game"
   ]
  },
  {
   "cell_type": "markdown",
   "id": "3f8d5605",
   "metadata": {},
   "source": [
    "This is a Markdown Cell.\n",
    "In this code, we are using Python 3 in Jupyter Notebook. "
   ]
  },
  {
   "cell_type": "code",
   "execution_count": null,
   "id": "04ca4fec",
   "metadata": {},
   "outputs": [],
   "source": [
    "# All the cells from now onwards are Code cells"
   ]
  },
  {
   "cell_type": "code",
   "execution_count": 57,
   "id": "bbba781c",
   "metadata": {},
   "outputs": [
    {
     "name": "stdout",
     "output_type": "stream",
     "text": [
      "How many times you want to play the game(give a integer value): 3\n",
      "Valid input of number of rounds\n",
      "Choose between rock, paper, scissors: ROCK\n",
      "You have choosen: rock\n",
      "Valid option has been choosen\n",
      "The computer has choosen scissors\n",
      "You Win\n",
      "Choose between rock, paper, scissors: PAPER\n",
      "You have choosen: paper\n",
      "Valid option has been choosen\n",
      "The computer has choosen paper\n",
      "It is a tie, as both have choosen the same thing\n",
      "Choose between rock, paper, scissors: SCISSORS\n",
      "You have choosen: scissors\n",
      "Valid option has been choosen\n",
      "The computer has choosen paper\n",
      "You Win\n",
      "GameOver\n"
     ]
    }
   ],
   "source": [
    "import random\n",
    "no_of_rounds = input('How many times you want to play the game(give a integer value): ')\n",
    "if no_of_rounds.isdigit() == True: \n",
    "    print('Valid input of number of rounds')    \n",
    "    i=0 # it is of integer datatype\n",
    "    while i<int(no_of_rounds):\n",
    "        i+=1\n",
    "        your_choice = input(\"Choose between rock, paper, scissors: \").lower() # .lower() would make the user input into lowercase\n",
    "        print('You have choosen:',your_choice)\n",
    "        options = ['rock','paper','scissors'] \n",
    "        computer_choice = random.choice(options)\n",
    "        if your_choice in options:\n",
    "            print('Valid option has been choosen')\n",
    "        else:\n",
    "            print('Invalid option has been choosen')\n",
    "            break\n",
    "        print('The computer has choosen',computer_choice)\n",
    "        if your_choice == computer_choice:\n",
    "            print('It is a tie, as both have choosen the same thing')\n",
    "        else:\n",
    "            # First if statement\n",
    "            if your_choice == 'rock':\n",
    "            # Nested if statement\n",
    "            # Will only be executed if the statement above it is true\n",
    "                if computer_choice == 'scissors':\n",
    "                    print('You Win')\n",
    "                else: # the computer_choice is paper\n",
    "                    print('You Lose')\n",
    "            if your_choice == 'scissors':\n",
    "                if computer_choice == 'paper':\n",
    "                    print('You Win')\n",
    "                else: # the computer_choice is rock\n",
    "                    print('You Lose')\n",
    "            if your_choice == 'paper':\n",
    "                if computer_choice == 'rock':\n",
    "                    print('You Win')\n",
    "                else: # the computer_choice is scissors\n",
    "                    print('You Lose')\n",
    "else:\n",
    "    print('Invalid input, give an integer number')\n",
    "    \n",
    "print('Game'+'Over') # concatenated print statements"
   ]
  },
  {
   "cell_type": "markdown",
   "id": "316ba984",
   "metadata": {},
   "source": [
    "This is a markdown cell\n",
    "- If the player gives any other value other than the ROCK, PAPER, SCISSORS, the program prints it as invalid option and the program ends.\n",
    "- The player need not take care of the case of the options he has given, as .lower() function lowers the player's input\n",
    "- nested if statement works only if the above statements above it are true\n",
    "- break function is used to come out of the loop (this loop can be a while loop, for loop)"
   ]
  }
 ],
 "metadata": {
  "kernelspec": {
   "display_name": "Python 3",
   "language": "python",
   "name": "python3"
  },
  "language_info": {
   "codemirror_mode": {
    "name": "ipython",
    "version": 3
   },
   "file_extension": ".py",
   "mimetype": "text/x-python",
   "name": "python",
   "nbconvert_exporter": "python",
   "pygments_lexer": "ipython3",
   "version": "3.8.8"
  }
 },
 "nbformat": 4,
 "nbformat_minor": 5
}
